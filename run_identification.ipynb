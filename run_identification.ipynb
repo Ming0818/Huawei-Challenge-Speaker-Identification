{
 "cells": [
  {
   "cell_type": "markdown",
   "metadata": {},
   "source": [
    "In this notebook, we evaluate the trained neural networks. The first part uses the large scale network, and the second is based on its mobile version."
   ]
  },
  {
   "cell_type": "markdown",
   "metadata": {},
   "source": [
    "## Speaker verification using large-scale neural embedding network."
   ]
  },
  {
   "cell_type": "code",
   "execution_count": 3,
   "metadata": {},
   "outputs": [
    {
     "name": "stdout",
     "output_type": "stream",
     "text": [
      "Enrolling speaker:  1089.wav\n",
      "Enrolling speaker:  1188.wav\n",
      "Enrolling speaker:  121.wav\n",
      "Enrolling speaker:  1221.wav\n",
      "Enrolling speaker:  1284.wav\n",
      "Enrolling speaker:  237.wav\n",
      "Enrolling speaker:  260.wav\n",
      "Enrolling speaker:  61.wav\n",
      "Enrolling speaker:  672.wav\n",
      "Enrolling speaker:  908.wav\n",
      "Computing query embeddings for speaker:  libri_test/enrollment_folder/1089.wav\n",
      "Computing query embeddings for speaker:  libri_test/enrollment_folder/1188.wav\n",
      "Computing query embeddings for speaker:  libri_test/enrollment_folder/121.wav\n",
      "Computing query embeddings for speaker:  libri_test/enrollment_folder/1221.wav\n",
      "Computing query embeddings for speaker:  libri_test/enrollment_folder/1284.wav\n",
      "Computing query embeddings for speaker:  libri_test/enrollment_folder/237.wav\n",
      "Computing query embeddings for speaker:  libri_test/enrollment_folder/260.wav\n",
      "Computing query embeddings for speaker:  libri_test/enrollment_folder/61.wav\n",
      "Computing query embeddings for speaker:  libri_test/enrollment_folder/672.wav\n",
      "Computing query embeddings for speaker:  libri_test/enrollment_folder/908.wav\n",
      "Computing query embeddings for speaker:  libri_test/query_folder/1320.wav\n",
      "Computing query embeddings for speaker:  libri_test/query_folder/1580.wav\n",
      "Computing query embeddings for speaker:  libri_test/query_folder/1995.wav\n",
      "Computing query embeddings for speaker:  libri_test/query_folder/2094.wav\n",
      "Computing query embeddings for speaker:  libri_test/query_folder/2300.wav\n",
      "Computing query embeddings for speaker:  libri_test/query_folder/2830.wav\n",
      "Computing query embeddings for speaker:  libri_test/query_folder/2961.wav\n",
      "Computing query embeddings for speaker:  libri_test/query_folder/3570.wav\n",
      "Computing query embeddings for speaker:  libri_test/query_folder/3575.wav\n",
      "Computing query embeddings for speaker:  libri_test/query_folder/3729.wav\n",
      "Computing query embeddings for speaker:  libri_test/query_folder/4077.wav\n",
      "Computing query embeddings for speaker:  libri_test/query_folder/4446.wav\n",
      "Computing query embeddings for speaker:  libri_test/query_folder/4507.wav\n",
      "Computing query embeddings for speaker:  libri_test/query_folder/4970.wav\n",
      "Computing query embeddings for speaker:  libri_test/query_folder/4992.wav\n",
      "Computing query embeddings for speaker:  libri_test/query_folder/5105.wav\n",
      "Computing query embeddings for speaker:  libri_test/query_folder/5142.wav\n",
      "Computing query embeddings for speaker:  libri_test/query_folder/5639.wav\n",
      "Computing query embeddings for speaker:  libri_test/query_folder/5683.wav\n",
      "Computing query embeddings for speaker:  libri_test/query_folder/6829.wav\n",
      "Computing query embeddings for speaker:  libri_test/query_folder/6930.wav\n",
      "Computing query embeddings for speaker:  libri_test/query_folder/7021.wav\n",
      "Computing query embeddings for speaker:  libri_test/query_folder/7127.wav\n",
      "Computing query embeddings for speaker:  libri_test/query_folder/7176.wav\n",
      "Computing query embeddings for speaker:  libri_test/query_folder/7729.wav\n",
      "Computing query embeddings for speaker:  libri_test/query_folder/8224.wav\n",
      "Computing query embeddings for speaker:  libri_test/query_folder/8230.wav\n",
      "Computing query embeddings for speaker:  libri_test/query_folder/8455.wav\n",
      "Computing query embeddings for speaker:  libri_test/query_folder/8463.wav\n",
      "Computing query embeddings for speaker:  libri_test/query_folder/8555.wav\n",
      "Final smallest distance {'Speaker': 'libri_test/enrollment_folder/1089.wav', 'Distance': 0.9321}\n",
      "Final smallest distance {'Speaker': 'libri_test/enrollment_folder/1188.wav', 'Distance': 0.9493}\n",
      "Final smallest distance {'Speaker': 'libri_test/enrollment_folder/121.wav', 'Distance': 0.9049}\n",
      "Final smallest distance {'Speaker': 'libri_test/enrollment_folder/1221.wav', 'Distance': 0.9199}\n",
      "Final smallest distance {'Speaker': 'libri_test/enrollment_folder/1284.wav', 'Distance': 0.5957}\n",
      "Final smallest distance {'Speaker': 'libri_test/enrollment_folder/237.wav', 'Distance': 0.6769}\n",
      "Final smallest distance {'Speaker': 'libri_test/enrollment_folder/260.wav', 'Distance': 0.7152}\n",
      "Final smallest distance {'Speaker': 'libri_test/enrollment_folder/61.wav', 'Distance': 0.8848}\n",
      "Final smallest distance {'Speaker': 'libri_test/enrollment_folder/672.wav', 'Distance': 0.7441}\n",
      "Final smallest distance {'Speaker': 'libri_test/enrollment_folder/908.wav', 'Distance': 0.8862}\n",
      "Final smallest distance {'Speaker': 'libri_test/query_folder/1320.wav', 'Distance': 0.6786}\n",
      "Final smallest distance {'Speaker': 'libri_test/query_folder/1580.wav', 'Distance': 0.585}\n",
      "Final smallest distance {'Speaker': 'libri_test/query_folder/1995.wav', 'Distance': 0.3021}\n",
      "Final smallest distance {'Speaker': 'libri_test/query_folder/2094.wav', 'Distance': 0.5968}\n",
      "Final smallest distance {'Speaker': 'libri_test/query_folder/2300.wav', 'Distance': 0.7256}\n",
      "Final smallest distance {'Speaker': 'libri_test/query_folder/2830.wav', 'Distance': 0.5714}\n",
      "Final smallest distance {'Speaker': 'libri_test/query_folder/2961.wav', 'Distance': 0.4703}\n",
      "Final smallest distance {'Speaker': 'libri_test/query_folder/3570.wav', 'Distance': 0.4937}\n",
      "Final smallest distance {'Speaker': 'libri_test/query_folder/3575.wav', 'Distance': 0.6705}\n",
      "Final smallest distance {'Speaker': 'libri_test/query_folder/3729.wav', 'Distance': 0.639}\n",
      "Final smallest distance {'Speaker': 'libri_test/query_folder/4077.wav', 'Distance': 0.3865}\n",
      "Final smallest distance {'Speaker': 'libri_test/query_folder/4446.wav', 'Distance': 0.6262}\n",
      "Final smallest distance {'Speaker': 'libri_test/query_folder/4507.wav', 'Distance': 0.6485}\n",
      "Final smallest distance {'Speaker': 'libri_test/query_folder/4970.wav', 'Distance': 0.8162}\n",
      "Final smallest distance {'Speaker': 'libri_test/query_folder/4992.wav', 'Distance': 0.5019}\n",
      "Final smallest distance {'Speaker': 'libri_test/query_folder/5105.wav', 'Distance': 0.7499}\n",
      "Final smallest distance {'Speaker': 'libri_test/query_folder/5142.wav', 'Distance': 0.5533}\n",
      "Final smallest distance {'Speaker': 'libri_test/query_folder/5639.wav', 'Distance': 0.4745}\n",
      "Final smallest distance {'Speaker': 'libri_test/query_folder/5683.wav', 'Distance': 0.83}\n",
      "Final smallest distance {'Speaker': 'libri_test/query_folder/6829.wav', 'Distance': 0.6909}\n",
      "Final smallest distance {'Speaker': 'libri_test/query_folder/6930.wav', 'Distance': 0.5709}\n",
      "Final smallest distance {'Speaker': 'libri_test/query_folder/7021.wav', 'Distance': 0.7813}\n",
      "Final smallest distance {'Speaker': 'libri_test/query_folder/7127.wav', 'Distance': 0.7041}\n",
      "Final smallest distance {'Speaker': 'libri_test/query_folder/7176.wav', 'Distance': 0.7817}\n",
      "Final smallest distance {'Speaker': 'libri_test/query_folder/7729.wav', 'Distance': 0.798}\n",
      "Final smallest distance {'Speaker': 'libri_test/query_folder/8224.wav', 'Distance': 0.8323}\n",
      "Final smallest distance {'Speaker': 'libri_test/query_folder/8230.wav', 'Distance': 0.714}\n",
      "Final smallest distance {'Speaker': 'libri_test/query_folder/8455.wav', 'Distance': 0.6569}\n",
      "Final smallest distance {'Speaker': 'libri_test/query_folder/8463.wav', 'Distance': 0.6039}\n",
      "Final smallest distance {'Speaker': 'libri_test/query_folder/8555.wav', 'Distance': 0.7921}\n"
     ]
    }
   ],
   "source": [
    "from own_library.speaker_identificationTF import SpeakerIdentificationTf\n",
    "from sklearn.metrics import roc_curve, auc\n",
    "from matplotlib import pyplot as plt\n",
    "\n",
    "identification = SpeakerIdentificationTf(**{\"enrollment_folder\": \"libri_test/enrollment_folder\",\n",
    "                                            \"data_folder\": \"libri_test\",\n",
    "                                            \"model\": \"pytorch\"})\n",
    "identification.enroll(seq_len=2, num_seq=5, normalize=True)\n",
    "identification.query(seq_len=2, num_seq=2, normalize=True)\n",
    "identification.compute_smallest_distances()\n"
   ]
  },
  {
   "cell_type": "code",
   "execution_count": 6,
   "metadata": {},
   "outputs": [
    {
     "name": "stdout",
     "output_type": "stream",
     "text": [
      "[1, 1, 1, 1, 1, 1, 1, 1, 1, 1, 0, 0, 0, 0, 0, 0, 0, 0, 0, 0, 0, 0, 0, 0, 0, 0, 0, 0, 0, 0, 0, 0, 0, 0, 0, 0, 0, 0, 0, 0] [0.9321, 0.9493, 0.9049, 0.9199, 0.5957, 0.6769, 0.7152, 0.8848, 0.7441, 0.8862, 0.6786, 0.585, 0.3021, 0.5968, 0.7256, 0.5714, 0.4703, 0.4937, 0.6705, 0.639, 0.3865, 0.6262, 0.6485, 0.8162, 0.5019, 0.7499, 0.5533, 0.4745, 0.83, 0.6909, 0.5709, 0.7813, 0.7041, 0.7817, 0.798, 0.8323, 0.714, 0.6569, 0.6039, 0.7921]\n"
     ]
    },
    {
     "name": "stderr",
     "output_type": "stream",
     "text": [
      "/home/piotr/anaconda3/envs/pyannote/lib/python3.6/site-packages/sklearn/metrics/classification.py:1135: UndefinedMetricWarning: Precision is ill-defined and being set to 0.0 due to no predicted samples.\n",
      "  'precision', 'predicted', average, warn_for)\n",
      "/home/piotr/anaconda3/envs/pyannote/lib/python3.6/site-packages/sklearn/metrics/classification.py:1135: UndefinedMetricWarning: F-score is ill-defined and being set to 0.0 due to no predicted samples.\n",
      "  'precision', 'predicted', average, warn_for)\n",
      "/home/piotr/anaconda3/envs/pyannote/lib/python3.6/site-packages/sklearn/metrics/classification.py:1135: UndefinedMetricWarning: Precision and F-score are ill-defined and being set to 0.0 in labels with no predicted samples.\n",
      "  'precision', 'predicted', average, warn_for)\n"
     ]
    }
   ],
   "source": [
    "#pytorch\n",
    "thresholds_cosine = [0.4, 0.45, 0.5, 0.55, 0.6, 0.65, 0.7, 0.75, 0.8, 0.85, 0.9, 0.95, 1]\n",
    "\n",
    "evaluation = identification.evaluate(thresholds_cosine)\n",
    "y_true = evaluation[0][\"y_true\"]\n",
    "y_prob = []\n",
    "\n",
    "\n",
    "for i in range(len(identification.smallest_distances)):\n",
    "    y_prob.append(identification.smallest_distances[i][\"Distance\"])\n",
    "print(y_true, y_prob)"
   ]
  },
  {
   "cell_type": "code",
   "execution_count": 7,
   "metadata": {},
   "outputs": [
    {
     "name": "stdout",
     "output_type": "stream",
     "text": [
      "Thresholds:  [0.9493 0.8848 0.7499 0.7441 0.7256 0.7152 0.6786 0.6769 0.5968 0.5957\n",
      " 0.3021]\n"
     ]
    },
    {
     "data": {
      "text/plain": [
       "<Figure size 432x288 with 0 Axes>"
      ]
     },
     "metadata": {},
     "output_type": "display_data"
    },
    {
     "data": {
      "image/png": "[encoded data removed]",
      "text/plain": [
       "<Figure size 720x720 with 1 Axes>"
      ]
     },
     "metadata": {
      "needs_background": "light"
     },
     "output_type": "display_data"
    }
   ],
   "source": [
    "fpr, tpr, thresholds = roc_curve(y_true, y_prob, pos_label=1)\n",
    "roc_auc = auc(fpr, tpr)\n",
    "print(\"Thresholds: \", thresholds)\n",
    "plt.figure()\n",
    "plt.figure(figsize=(10, 10))\n",
    "plt.plot(fpr, tpr, color='darkorange', lw=1, label='ROC curve (area = %0.2f)' % roc_auc)\n",
    "plt.plot([0, 1], [0, 1], color='navy', lw=1, linestyle='--')\n",
    "plt.xlim([0.0, 1.0])\n",
    "plt.ylim([0.0, 1.05])\n",
    "plt.xlabel('False Positive Rate')\n",
    "plt.ylabel('True Positive Rate')\n",
    "plt.title('Receiver operating characteristic')\n",
    "plt.legend(loc=\"lower right\")\n",
    "plt.show()"
   ]
  },
  {
   "cell_type": "markdown",
   "metadata": {},
   "source": [
    "## Speaker verification using large-scale neural embedding network."
   ]
  },
  {
   "cell_type": "code",
   "execution_count": 8,
   "metadata": {},
   "outputs": [
    {
     "name": "stdout",
     "output_type": "stream",
     "text": [
      "Enrolling speaker:  1089.wav\n",
      "Enrolling speaker:  1188.wav\n",
      "Enrolling speaker:  121.wav\n",
      "Enrolling speaker:  1221.wav\n",
      "Enrolling speaker:  1284.wav\n",
      "Enrolling speaker:  237.wav\n",
      "Enrolling speaker:  260.wav\n",
      "Enrolling speaker:  61.wav\n",
      "Enrolling speaker:  672.wav\n",
      "Enrolling speaker:  908.wav\n",
      "Computing query embeddings for speaker:  libri_test/enrollment_folder/1089.wav\n",
      "Computing query embeddings for speaker:  libri_test/enrollment_folder/1188.wav\n",
      "Computing query embeddings for speaker:  libri_test/enrollment_folder/121.wav\n",
      "Computing query embeddings for speaker:  libri_test/enrollment_folder/1221.wav\n",
      "Computing query embeddings for speaker:  libri_test/enrollment_folder/1284.wav\n",
      "Computing query embeddings for speaker:  libri_test/enrollment_folder/237.wav\n",
      "Computing query embeddings for speaker:  libri_test/enrollment_folder/260.wav\n",
      "Computing query embeddings for speaker:  libri_test/enrollment_folder/61.wav\n",
      "Computing query embeddings for speaker:  libri_test/enrollment_folder/672.wav\n",
      "Computing query embeddings for speaker:  libri_test/enrollment_folder/908.wav\n",
      "Computing query embeddings for speaker:  libri_test/query_folder/1320.wav\n",
      "Computing query embeddings for speaker:  libri_test/query_folder/1580.wav\n",
      "Computing query embeddings for speaker:  libri_test/query_folder/1995.wav\n",
      "Computing query embeddings for speaker:  libri_test/query_folder/2094.wav\n",
      "Computing query embeddings for speaker:  libri_test/query_folder/2300.wav\n",
      "Computing query embeddings for speaker:  libri_test/query_folder/2830.wav\n",
      "Computing query embeddings for speaker:  libri_test/query_folder/2961.wav\n",
      "Computing query embeddings for speaker:  libri_test/query_folder/3570.wav\n",
      "Computing query embeddings for speaker:  libri_test/query_folder/3575.wav\n",
      "Computing query embeddings for speaker:  libri_test/query_folder/3729.wav\n",
      "Computing query embeddings for speaker:  libri_test/query_folder/4077.wav\n",
      "Computing query embeddings for speaker:  libri_test/query_folder/4446.wav\n",
      "Computing query embeddings for speaker:  libri_test/query_folder/4507.wav\n",
      "Computing query embeddings for speaker:  libri_test/query_folder/4970.wav\n",
      "Computing query embeddings for speaker:  libri_test/query_folder/4992.wav\n",
      "Computing query embeddings for speaker:  libri_test/query_folder/5105.wav\n",
      "Computing query embeddings for speaker:  libri_test/query_folder/5142.wav\n",
      "Computing query embeddings for speaker:  libri_test/query_folder/5639.wav\n",
      "Computing query embeddings for speaker:  libri_test/query_folder/5683.wav\n",
      "Computing query embeddings for speaker:  libri_test/query_folder/6829.wav\n",
      "Computing query embeddings for speaker:  libri_test/query_folder/6930.wav\n",
      "Computing query embeddings for speaker:  libri_test/query_folder/7021.wav\n",
      "Computing query embeddings for speaker:  libri_test/query_folder/7127.wav\n",
      "Computing query embeddings for speaker:  libri_test/query_folder/7176.wav\n",
      "Computing query embeddings for speaker:  libri_test/query_folder/7729.wav\n",
      "Computing query embeddings for speaker:  libri_test/query_folder/8224.wav\n",
      "Computing query embeddings for speaker:  libri_test/query_folder/8230.wav\n",
      "Computing query embeddings for speaker:  libri_test/query_folder/8455.wav\n",
      "Computing query embeddings for speaker:  libri_test/query_folder/8463.wav\n",
      "Computing query embeddings for speaker:  libri_test/query_folder/8555.wav\n",
      "Final smallest distance {'Speaker': 'libri_test/enrollment_folder/1089.wav', 'Distance': 0.9508}\n",
      "Final smallest distance {'Speaker': 'libri_test/enrollment_folder/1188.wav', 'Distance': 0.9913}\n",
      "Final smallest distance {'Speaker': 'libri_test/enrollment_folder/121.wav', 'Distance': 0.9728}\n",
      "Final smallest distance {'Speaker': 'libri_test/enrollment_folder/1221.wav', 'Distance': 0.9924}\n",
      "Final smallest distance {'Speaker': 'libri_test/enrollment_folder/1284.wav', 'Distance': 0.9864}\n",
      "Final smallest distance {'Speaker': 'libri_test/enrollment_folder/237.wav', 'Distance': 0.9937}\n",
      "Final smallest distance {'Speaker': 'libri_test/enrollment_folder/260.wav', 'Distance': 0.9397}\n",
      "Final smallest distance {'Speaker': 'libri_test/enrollment_folder/61.wav', 'Distance': 0.9909}\n",
      "Final smallest distance {'Speaker': 'libri_test/enrollment_folder/672.wav', 'Distance': 0.9888}\n",
      "Final smallest distance {'Speaker': 'libri_test/enrollment_folder/908.wav', 'Distance': 0.976}\n",
      "Final smallest distance {'Speaker': 'libri_test/query_folder/1320.wav', 'Distance': 0.9629}\n",
      "Final smallest distance {'Speaker': 'libri_test/query_folder/1580.wav', 'Distance': 0.913}\n",
      "Final smallest distance {'Speaker': 'libri_test/query_folder/1995.wav', 'Distance': 0.8447}\n",
      "Final smallest distance {'Speaker': 'libri_test/query_folder/2094.wav', 'Distance': 0.9333}\n",
      "Final smallest distance {'Speaker': 'libri_test/query_folder/2300.wav', 'Distance': 0.9528}\n",
      "Final smallest distance {'Speaker': 'libri_test/query_folder/2830.wav', 'Distance': 0.9137}\n",
      "Final smallest distance {'Speaker': 'libri_test/query_folder/2961.wav', 'Distance': 0.7346}\n",
      "Final smallest distance {'Speaker': 'libri_test/query_folder/3570.wav', 'Distance': 0.8256}\n",
      "Final smallest distance {'Speaker': 'libri_test/query_folder/3575.wav', 'Distance': 0.9059}\n",
      "Final smallest distance {'Speaker': 'libri_test/query_folder/3729.wav', 'Distance': 0.7653}\n",
      "Final smallest distance {'Speaker': 'libri_test/query_folder/4077.wav', 'Distance': 0.8787}\n",
      "Final smallest distance {'Speaker': 'libri_test/query_folder/4446.wav', 'Distance': 0.9144}\n",
      "Final smallest distance {'Speaker': 'libri_test/query_folder/4507.wav', 'Distance': 0.7829}\n",
      "Final smallest distance {'Speaker': 'libri_test/query_folder/4970.wav', 'Distance': 0.9297}\n",
      "Final smallest distance {'Speaker': 'libri_test/query_folder/4992.wav', 'Distance': 0.8674}\n",
      "Final smallest distance {'Speaker': 'libri_test/query_folder/5105.wav', 'Distance': 0.8852}\n",
      "Final smallest distance {'Speaker': 'libri_test/query_folder/5142.wav', 'Distance': 0.8124}\n",
      "Final smallest distance {'Speaker': 'libri_test/query_folder/5639.wav', 'Distance': 0.8652}\n",
      "Final smallest distance {'Speaker': 'libri_test/query_folder/5683.wav', 'Distance': 0.9157}\n",
      "Final smallest distance {'Speaker': 'libri_test/query_folder/6829.wav', 'Distance': 0.8761}\n",
      "Final smallest distance {'Speaker': 'libri_test/query_folder/6930.wav', 'Distance': 0.8384}\n",
      "Final smallest distance {'Speaker': 'libri_test/query_folder/7021.wav', 'Distance': 0.9034}\n",
      "Final smallest distance {'Speaker': 'libri_test/query_folder/7127.wav', 'Distance': 0.8686}\n",
      "Final smallest distance {'Speaker': 'libri_test/query_folder/7176.wav', 'Distance': 0.9234}\n",
      "Final smallest distance {'Speaker': 'libri_test/query_folder/7729.wav', 'Distance': 0.9205}\n",
      "Final smallest distance {'Speaker': 'libri_test/query_folder/8224.wav', 'Distance': 0.9299}\n",
      "Final smallest distance {'Speaker': 'libri_test/query_folder/8230.wav', 'Distance': 0.8916}\n",
      "Final smallest distance {'Speaker': 'libri_test/query_folder/8455.wav', 'Distance': 0.8259}\n",
      "Final smallest distance {'Speaker': 'libri_test/query_folder/8463.wav', 'Distance': 0.8194}\n",
      "Final smallest distance {'Speaker': 'libri_test/query_folder/8555.wav', 'Distance': 0.8066}\n"
     ]
    }
   ],
   "source": [
    "from own_library.speaker_identificationTF import SpeakerIdentificationTf\n",
    "from sklearn.metrics import roc_curve, auc\n",
    "from matplotlib import pyplot as plt\n",
    "\n",
    "identification = SpeakerIdentificationTf(**{\"enrollment_folder\": \"libri_test/enrollment_folder\",\n",
    "                                            \"data_folder\": \"libri_test\",\n",
    "                                            \"model\": \"tensorflow\"})\n",
    "identification.enroll(seq_len=3.58, num_seq=5, normalize=False)\n",
    "identification.query(seq_len=3.58, num_seq=2, normalize=False)\n",
    "identification.compute_smallest_distances()\n"
   ]
  },
  {
   "cell_type": "code",
   "execution_count": 9,
   "metadata": {},
   "outputs": [
    {
     "name": "stdout",
     "output_type": "stream",
     "text": [
      "[1, 1, 1, 1, 1, 1, 1, 1, 1, 1, 0, 0, 0, 0, 0, 0, 0, 0, 0, 0, 0, 0, 0, 0, 0, 0, 0, 0, 0, 0, 0, 0, 0, 0, 0, 0, 0, 0, 0, 0] [0.9508, 0.9913, 0.9728, 0.9924, 0.9864, 0.9937, 0.9397, 0.9909, 0.9888, 0.976, 0.9629, 0.913, 0.8447, 0.9333, 0.9528, 0.9137, 0.7346, 0.8256, 0.9059, 0.7653, 0.8787, 0.9144, 0.7829, 0.9297, 0.8674, 0.8852, 0.8124, 0.8652, 0.9157, 0.8761, 0.8384, 0.9034, 0.8686, 0.9234, 0.9205, 0.9299, 0.8916, 0.8259, 0.8194, 0.8066]\n",
      "40\n",
      "40\n"
     ]
    },
    {
     "name": "stderr",
     "output_type": "stream",
     "text": [
      "/home/piotr/anaconda3/envs/pyannote/lib/python3.6/site-packages/sklearn/metrics/classification.py:1135: UndefinedMetricWarning: Precision is ill-defined and being set to 0.0 due to no predicted samples.\n",
      "  'precision', 'predicted', average, warn_for)\n",
      "/home/piotr/anaconda3/envs/pyannote/lib/python3.6/site-packages/sklearn/metrics/classification.py:1135: UndefinedMetricWarning: F-score is ill-defined and being set to 0.0 due to no predicted samples.\n",
      "  'precision', 'predicted', average, warn_for)\n",
      "/home/piotr/anaconda3/envs/pyannote/lib/python3.6/site-packages/sklearn/metrics/classification.py:1135: UndefinedMetricWarning: Precision and F-score are ill-defined and being set to 0.0 in labels with no predicted samples.\n",
      "  'precision', 'predicted', average, warn_for)\n"
     ]
    }
   ],
   "source": [
    "#pytorch\n",
    "thresholds_cosine = [0.9, 0.91, 0.92, 0.93, 0.94,  0.95, 0.96, 0.97, 0.98, 0.99, 1]\n",
    "\n",
    "evaluation = identification.evaluate(thresholds_cosine)\n",
    "y_true = evaluation[0][\"y_true\"]\n",
    "y_prob = []\n",
    "\n",
    "\n",
    "for i in range(len(identification.smallest_distances)):\n",
    "    y_prob.append(identification.smallest_distances[i][\"Distance\"])\n",
    "print(y_true, y_prob)\n",
    "print(len(y_prob))\n",
    "print(len(y_true))"
   ]
  },
  {
   "cell_type": "code",
   "execution_count": 10,
   "metadata": {},
   "outputs": [
    {
     "name": "stdout",
     "output_type": "stream",
     "text": [
      "[0.9937 0.9728 0.9528 0.9397 0.7346]\n"
     ]
    },
    {
     "data": {
      "text/plain": [
       "<Figure size 432x288 with 0 Axes>"
      ]
     },
     "metadata": {},
     "output_type": "display_data"
    },
    {
     "data": {
      "image/png": "[encoded data removed]",
      "text/plain": [
       "<Figure size 720x720 with 1 Axes>"
      ]
     },
     "metadata": {
      "needs_background": "light"
     },
     "output_type": "display_data"
    }
   ],
   "source": [
    "fpr, tpr, thresholds = roc_curve(y_true, y_prob, pos_label=1)\n",
    "print(thresholds)\n",
    "roc_auc = auc(fpr, tpr)\n",
    "\n",
    "plt.figure()\n",
    "plt.figure(figsize=(10, 10))\n",
    "plt.plot(fpr, tpr, color='darkorange', lw=1, label='ROC curve (area = %0.2f)' % roc_auc)\n",
    "plt.plot([0, 1], [0, 1], color='navy', lw=1, linestyle='--')\n",
    "plt.xlim([0.0, 1.0])\n",
    "plt.ylim([0.0, 1.05])\n",
    "plt.xlabel('False Positive Rate')\n",
    "plt.ylabel('True Positive Rate')\n",
    "plt.title('Receiver operating characteristic')\n",
    "plt.legend(loc=\"lower right\")\n",
    "plt.show()"
   ]
  },
  {
   "cell_type": "code",
   "execution_count": null,
   "metadata": {},
   "outputs": [],
   "source": []
  }
 ],
 "metadata": {
  "kernelspec": {
   "display_name": "Python 3",
   "language": "python",
   "name": "python3"
  },
  "language_info": {
   "codemirror_mode": {
    "name": "ipython",
    "version": 3
   },
   "file_extension": ".py",
   "mimetype": "text/x-python",
   "name": "python",
   "nbconvert_exporter": "python",
   "pygments_lexer": "ipython3",
   "version": "3.6.6"
  }
 },
 "nbformat": 4,
 "nbformat_minor": 2
}
