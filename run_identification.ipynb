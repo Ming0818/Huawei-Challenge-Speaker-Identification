{
 "cells": [
  {
   "cell_type": "markdown",
   "metadata": {},
   "source": [
    "In this notebook, we evaluate the trained neural networks. The first part uses the large scale network, and the second is based on its mobile version."
   ]
  },
  {
   "cell_type": "markdown",
   "metadata": {},
   "source": [
    "## Speaker verification using large-scale neural embedding network."
   ]
  },
  {
   "cell_type": "code",
   "execution_count": 1,
   "metadata": {},
   "outputs": [
    {
     "name": "stderr",
     "output_type": "stream",
     "text": [
      "/home/piotr/anaconda3/envs/pyannote/lib/python3.6/site-packages/h5py/__init__.py:36: FutureWarning: Conversion of the second argument of issubdtype from `float` to `np.floating` is deprecated. In future, it will be treated as `np.float64 == np.dtype(float).type`.\n",
      "  from ._conv import register_converters as _register_converters\n"
     ]
    },
    {
     "name": "stdout",
     "output_type": "stream",
     "text": [
      "Enrolling speaker:  14.wav\n",
      "Enrolling speaker:  16.wav\n",
      "Enrolling speaker:  17.wav\n",
      "Enrolling speaker:  19.wav\n",
      "Enrolling speaker:  22.wav\n",
      "Enrolling speaker:  23.wav\n",
      "Enrolling speaker:  26.wav\n",
      "Enrolling speaker:  27.wav\n",
      "Enrolling speaker:  28.wav\n",
      "Computing query embeddings for speaker:  libri_train/enrollment_folder/14.wav\n",
      "Computing query embeddings for speaker:  libri_train/enrollment_folder/16.wav\n",
      "Computing query embeddings for speaker:  libri_train/enrollment_folder/17.wav\n",
      "Computing query embeddings for speaker:  libri_train/enrollment_folder/19.wav\n",
      "Computing query embeddings for speaker:  libri_train/enrollment_folder/22.wav\n",
      "Computing query embeddings for speaker:  libri_train/enrollment_folder/23.wav\n",
      "Computing query embeddings for speaker:  libri_train/enrollment_folder/26.wav\n",
      "Computing query embeddings for speaker:  libri_train/enrollment_folder/27.wav\n",
      "Computing query embeddings for speaker:  libri_train/enrollment_folder/28.wav\n",
      "Computing query embeddings for speaker:  libri_train/query_folder/100.wav\n",
      "Computing query embeddings for speaker:  libri_train/query_folder/101.wav\n",
      "Computing query embeddings for speaker:  libri_train/query_folder/103.wav\n",
      "Computing query embeddings for speaker:  libri_train/query_folder/112.wav\n",
      "Computing query embeddings for speaker:  libri_train/query_folder/114.wav\n",
      "Computing query embeddings for speaker:  libri_train/query_folder/115.wav\n",
      "Computing query embeddings for speaker:  libri_train/query_folder/30.wav\n",
      "Computing query embeddings for speaker:  libri_train/query_folder/32.wav\n",
      "Computing query embeddings for speaker:  libri_train/query_folder/38.wav\n",
      "Computing query embeddings for speaker:  libri_train/query_folder/39.wav\n",
      "Computing query embeddings for speaker:  libri_train/query_folder/40.wav\n",
      "Computing query embeddings for speaker:  libri_train/query_folder/54.wav\n",
      "Computing query embeddings for speaker:  libri_train/query_folder/55.wav\n",
      "Computing query embeddings for speaker:  libri_train/query_folder/56.wav\n",
      "Computing query embeddings for speaker:  libri_train/query_folder/60.wav\n",
      "Computing query embeddings for speaker:  libri_train/query_folder/64.wav\n",
      "Computing query embeddings for speaker:  libri_train/query_folder/70.wav\n",
      "Computing query embeddings for speaker:  libri_train/query_folder/78.wav\n",
      "Computing query embeddings for speaker:  libri_train/query_folder/79.wav\n",
      "Computing query embeddings for speaker:  libri_train/query_folder/81.wav\n",
      "Computing query embeddings for speaker:  libri_train/query_folder/83.wav\n",
      "Computing query embeddings for speaker:  libri_train/query_folder/87.wav\n",
      "Computing query embeddings for speaker:  libri_train/query_folder/89.wav\n",
      "Computing query embeddings for speaker:  libri_train/query_folder/90.wav\n",
      "Computing query embeddings for speaker:  libri_train/query_folder/93.wav\n",
      "Computing query embeddings for speaker:  libri_train/query_folder/98.wav\n",
      "Final smallest distance {'Speaker': 'libri_train/enrollment_folder/14.wav', 'Distance': 0.9191}\n",
      "Final smallest distance {'Speaker': 'libri_train/enrollment_folder/16.wav', 'Distance': 0.9038}\n",
      "Final smallest distance {'Speaker': 'libri_train/enrollment_folder/17.wav', 'Distance': 0.8942}\n",
      "Final smallest distance {'Speaker': 'libri_train/enrollment_folder/19.wav', 'Distance': 0.831}\n",
      "Final smallest distance {'Speaker': 'libri_train/enrollment_folder/22.wav', 'Distance': 0.8536}\n",
      "Final smallest distance {'Speaker': 'libri_train/enrollment_folder/23.wav', 'Distance': 0.8471}\n",
      "Final smallest distance {'Speaker': 'libri_train/enrollment_folder/26.wav', 'Distance': 0.797}\n",
      "Final smallest distance {'Speaker': 'libri_train/enrollment_folder/27.wav', 'Distance': 0.8889}\n",
      "Final smallest distance {'Speaker': 'libri_train/enrollment_folder/28.wav', 'Distance': 0.743}\n",
      "Final smallest distance {'Speaker': 'libri_train/query_folder/100.wav', 'Distance': 0.5943}\n",
      "Final smallest distance {'Speaker': 'libri_train/query_folder/101.wav', 'Distance': 0.6975}\n",
      "Final smallest distance {'Speaker': 'libri_train/query_folder/103.wav', 'Distance': 0.7707}\n",
      "Final smallest distance {'Speaker': 'libri_train/query_folder/112.wav', 'Distance': 0.733}\n",
      "Final smallest distance {'Speaker': 'libri_train/query_folder/114.wav', 'Distance': 0.9101}\n",
      "Final smallest distance {'Speaker': 'libri_train/query_folder/115.wav', 'Distance': 0.6061}\n",
      "Final smallest distance {'Speaker': 'libri_train/query_folder/30.wav', 'Distance': 0.8259}\n",
      "Final smallest distance {'Speaker': 'libri_train/query_folder/32.wav', 'Distance': 0.8883}\n",
      "Final smallest distance {'Speaker': 'libri_train/query_folder/38.wav', 'Distance': 0.3567}\n",
      "Final smallest distance {'Speaker': 'libri_train/query_folder/39.wav', 'Distance': 0.6649}\n",
      "Final smallest distance {'Speaker': 'libri_train/query_folder/40.wav', 'Distance': 0.705}\n",
      "Final smallest distance {'Speaker': 'libri_train/query_folder/54.wav', 'Distance': 0.759}\n",
      "Final smallest distance {'Speaker': 'libri_train/query_folder/55.wav', 'Distance': 0.5459}\n",
      "Final smallest distance {'Speaker': 'libri_train/query_folder/56.wav', 'Distance': 0.6735}\n",
      "Final smallest distance {'Speaker': 'libri_train/query_folder/60.wav', 'Distance': 0.3965}\n",
      "Final smallest distance {'Speaker': 'libri_train/query_folder/64.wav', 'Distance': 0.7348}\n",
      "Final smallest distance {'Speaker': 'libri_train/query_folder/70.wav', 'Distance': 0.7248}\n",
      "Final smallest distance {'Speaker': 'libri_train/query_folder/78.wav', 'Distance': 0.4853}\n",
      "Final smallest distance {'Speaker': 'libri_train/query_folder/79.wav', 'Distance': 0.633}\n",
      "Final smallest distance {'Speaker': 'libri_train/query_folder/81.wav', 'Distance': 0.5571}\n",
      "Final smallest distance {'Speaker': 'libri_train/query_folder/83.wav', 'Distance': 0.5967}\n",
      "Final smallest distance {'Speaker': 'libri_train/query_folder/87.wav', 'Distance': 0.614}\n",
      "Final smallest distance {'Speaker': 'libri_train/query_folder/89.wav', 'Distance': 0.4736}\n",
      "Final smallest distance {'Speaker': 'libri_train/query_folder/90.wav', 'Distance': 0.3305}\n",
      "Final smallest distance {'Speaker': 'libri_train/query_folder/93.wav', 'Distance': 0.727}\n",
      "Final smallest distance {'Speaker': 'libri_train/query_folder/98.wav', 'Distance': 0.6022}\n"
     ]
    }
   ],
   "source": [
    "from own_library.speaker_identificationTF import SpeakerIdentificationTf\n",
    "from sklearn.metrics import roc_curve, auc\n",
    "from matplotlib import pyplot as plt\n",
    "\n",
    "identification = SpeakerIdentificationTf(**{\"enrollment_folder\": \"libri_train/enrollment_folder\",\n",
    "                                            \"data_folder\": \"libri_train\",\n",
    "                                            \"model\": \"pytorch\"})\n",
    "identification.enroll(seq_len=2, num_seq=5)\n",
    "identification.query(seq_len=2, num_seq=2)\n",
    "identification.compute_smallest_distances()\n"
   ]
  },
  {
   "cell_type": "code",
   "execution_count": 3,
   "metadata": {},
   "outputs": [
    {
     "name": "stdout",
     "output_type": "stream",
     "text": [
      "[1, 1, 1, 1, 1, 1, 1, 1, 1, 0, 0, 0, 0, 0, 0, 0, 0, 0, 0, 0, 0, 0, 0, 0, 0, 0, 0, 0, 0, 0, 0, 0, 0, 0, 0] [0.9191, 0.9038, 0.8942, 0.831, 0.8536, 0.8471, 0.797, 0.8889, 0.743, 0.5943, 0.6975, 0.7707, 0.733, 0.9101, 0.6061, 0.8259, 0.8883, 0.3567, 0.6649, 0.705, 0.759, 0.5459, 0.6735, 0.3965, 0.7348, 0.7248, 0.4853, 0.633, 0.5571, 0.5967, 0.614, 0.4736, 0.3305, 0.727, 0.6022]\n",
      "35\n",
      "35\n"
     ]
    },
    {
     "name": "stderr",
     "output_type": "stream",
     "text": [
      "/home/piotr/anaconda3/envs/pyannote/lib/python3.6/site-packages/sklearn/metrics/classification.py:1135: UndefinedMetricWarning: Precision is ill-defined and being set to 0.0 due to no predicted samples.\n",
      "  'precision', 'predicted', average, warn_for)\n",
      "/home/piotr/anaconda3/envs/pyannote/lib/python3.6/site-packages/sklearn/metrics/classification.py:1135: UndefinedMetricWarning: F-score is ill-defined and being set to 0.0 due to no predicted samples.\n",
      "  'precision', 'predicted', average, warn_for)\n",
      "/home/piotr/anaconda3/envs/pyannote/lib/python3.6/site-packages/sklearn/metrics/classification.py:1135: UndefinedMetricWarning: Precision and F-score are ill-defined and being set to 0.0 in labels with no predicted samples.\n",
      "  'precision', 'predicted', average, warn_for)\n"
     ]
    }
   ],
   "source": [
    "#pytorch\n",
    "thresholds_cosine = [0.4, 0.45, 0.5, 0.55, 0.6, 0.65, 0.7, 0.75, 0.8, 0.85, 0.9, 0.95, 1]\n",
    "\n",
    "evaluation = identification.evaluate(thresholds_cosine)\n",
    "y_true = evaluation[0][\"y_true\"]\n",
    "y_prob = []\n",
    "\n",
    "\n",
    "for i in range(len(identification.smallest_distances)):\n",
    "    y_prob.append(identification.smallest_distances[i][\"Distance\"])\n",
    "print(y_true, y_prob)\n",
    "print(len(y_prob))\n",
    "print(len(y_true))"
   ]
  },
  {
   "cell_type": "code",
   "execution_count": 6,
   "metadata": {},
   "outputs": [
    {
     "data": {
      "image/png": "[encoded data removed]",
      "text/plain": [
       "<Figure size 432x288 with 1 Axes>"
      ]
     },
     "metadata": {
      "needs_background": "light"
     },
     "output_type": "display_data"
    }
   ],
   "source": [
    "fpr, tpr, thresholds = roc_curve(y_true, y_prob, pos_label=1)\n",
    "roc_auc = auc(fpr, tpr)\n",
    "\n",
    "plt.figure()\n",
    "plt.figure(figsize=(10, 10))\n",
    "plt.plot(fpr, tpr, color='darkorange', lw=1, label='ROC curve (area = %0.2f)' % roc_auc)\n",
    "plt.plot([0, 1], [0, 1], color='navy', lw=1, linestyle='--')\n",
    "plt.xlim([0.0, 1.0])\n",
    "plt.ylim([0.0, 1.05])\n",
    "plt.xlabel('False Positive Rate')\n",
    "plt.ylabel('True Positive Rate')\n",
    "plt.title('Receiver operating characteristic')\n",
    "plt.legend(loc=\"lower right\")\n",
    "plt.show()"
   ]
  },
  {
   "cell_type": "markdown",
   "metadata": {},
   "source": [
    "## Speaker verification using large-scale neural embedding network."
   ]
  },
  {
   "cell_type": "code",
   "execution_count": 1,
   "metadata": {},
   "outputs": [
    {
     "name": "stderr",
     "output_type": "stream",
     "text": [
      "/home/piotr/anaconda3/envs/pyannote/lib/python3.6/site-packages/h5py/__init__.py:36: FutureWarning: Conversion of the second argument of issubdtype from `float` to `np.floating` is deprecated. In future, it will be treated as `np.float64 == np.dtype(float).type`.\n",
      "  from ._conv import register_converters as _register_converters\n"
     ]
    },
    {
     "name": "stdout",
     "output_type": "stream",
     "text": [
      "Enrolling speaker:  14.wav\n",
      "Enrolling speaker:  16.wav\n",
      "Enrolling speaker:  17.wav\n",
      "Enrolling speaker:  19.wav\n",
      "Enrolling speaker:  22.wav\n",
      "Enrolling speaker:  23.wav\n",
      "Enrolling speaker:  26.wav\n",
      "Enrolling speaker:  27.wav\n",
      "Enrolling speaker:  28.wav\n",
      "Computing query embeddings for speaker:  libri_train/enrollment_folder/14.wav\n",
      "Computing query embeddings for speaker:  libri_train/enrollment_folder/16.wav\n",
      "Computing query embeddings for speaker:  libri_train/enrollment_folder/17.wav\n",
      "Computing query embeddings for speaker:  libri_train/enrollment_folder/19.wav\n",
      "Computing query embeddings for speaker:  libri_train/enrollment_folder/22.wav\n",
      "Computing query embeddings for speaker:  libri_train/enrollment_folder/23.wav\n",
      "Computing query embeddings for speaker:  libri_train/enrollment_folder/26.wav\n",
      "Computing query embeddings for speaker:  libri_train/enrollment_folder/27.wav\n",
      "Computing query embeddings for speaker:  libri_train/enrollment_folder/28.wav\n",
      "Computing query embeddings for speaker:  libri_train/query_folder/100.wav\n",
      "Computing query embeddings for speaker:  libri_train/query_folder/101.wav\n",
      "Computing query embeddings for speaker:  libri_train/query_folder/103.wav\n",
      "Computing query embeddings for speaker:  libri_train/query_folder/112.wav\n",
      "Computing query embeddings for speaker:  libri_train/query_folder/114.wav\n",
      "Computing query embeddings for speaker:  libri_train/query_folder/115.wav\n",
      "Computing query embeddings for speaker:  libri_train/query_folder/30.wav\n",
      "Computing query embeddings for speaker:  libri_train/query_folder/32.wav\n",
      "Computing query embeddings for speaker:  libri_train/query_folder/38.wav\n",
      "Computing query embeddings for speaker:  libri_train/query_folder/39.wav\n",
      "Computing query embeddings for speaker:  libri_train/query_folder/40.wav\n",
      "Computing query embeddings for speaker:  libri_train/query_folder/54.wav\n",
      "Computing query embeddings for speaker:  libri_train/query_folder/55.wav\n",
      "Computing query embeddings for speaker:  libri_train/query_folder/56.wav\n",
      "Computing query embeddings for speaker:  libri_train/query_folder/60.wav\n",
      "Computing query embeddings for speaker:  libri_train/query_folder/64.wav\n",
      "Computing query embeddings for speaker:  libri_train/query_folder/70.wav\n",
      "Computing query embeddings for speaker:  libri_train/query_folder/78.wav\n",
      "Computing query embeddings for speaker:  libri_train/query_folder/79.wav\n",
      "Computing query embeddings for speaker:  libri_train/query_folder/81.wav\n",
      "Computing query embeddings for speaker:  libri_train/query_folder/83.wav\n",
      "Computing query embeddings for speaker:  libri_train/query_folder/87.wav\n",
      "Computing query embeddings for speaker:  libri_train/query_folder/89.wav\n",
      "Computing query embeddings for speaker:  libri_train/query_folder/90.wav\n",
      "Computing query embeddings for speaker:  libri_train/query_folder/93.wav\n",
      "Computing query embeddings for speaker:  libri_train/query_folder/98.wav\n",
      "Final smallest distance {'Speaker': 'libri_train/enrollment_folder/14.wav', 'Distance': 0.9898}\n",
      "Final smallest distance {'Speaker': 'libri_train/enrollment_folder/16.wav', 'Distance': 0.9536}\n",
      "Final smallest distance {'Speaker': 'libri_train/enrollment_folder/17.wav', 'Distance': 0.9852}\n",
      "Final smallest distance {'Speaker': 'libri_train/enrollment_folder/19.wav', 'Distance': 0.9869}\n",
      "Final smallest distance {'Speaker': 'libri_train/enrollment_folder/22.wav', 'Distance': 0.9928}\n",
      "Final smallest distance {'Speaker': 'libri_train/enrollment_folder/23.wav', 'Distance': 0.9848}\n",
      "Final smallest distance {'Speaker': 'libri_train/enrollment_folder/26.wav', 'Distance': 0.9915}\n",
      "Final smallest distance {'Speaker': 'libri_train/enrollment_folder/27.wav', 'Distance': 0.9892}\n",
      "Final smallest distance {'Speaker': 'libri_train/enrollment_folder/28.wav', 'Distance': 0.9777}\n",
      "Final smallest distance {'Speaker': 'libri_train/query_folder/100.wav', 'Distance': 0.8049}\n",
      "Final smallest distance {'Speaker': 'libri_train/query_folder/101.wav', 'Distance': 0.9217}\n",
      "Final smallest distance {'Speaker': 'libri_train/query_folder/103.wav', 'Distance': 0.9193}\n",
      "Final smallest distance {'Speaker': 'libri_train/query_folder/112.wav', 'Distance': 0.9463}\n",
      "Final smallest distance {'Speaker': 'libri_train/query_folder/114.wav', 'Distance': 0.7963}\n",
      "Final smallest distance {'Speaker': 'libri_train/query_folder/115.wav', 'Distance': 0.8537}\n",
      "Final smallest distance {'Speaker': 'libri_train/query_folder/30.wav', 'Distance': 0.9355}\n",
      "Final smallest distance {'Speaker': 'libri_train/query_folder/32.wav', 'Distance': 0.9247}\n",
      "Final smallest distance {'Speaker': 'libri_train/query_folder/38.wav', 'Distance': 0.7995}\n",
      "Final smallest distance {'Speaker': 'libri_train/query_folder/39.wav', 'Distance': 0.9131}\n",
      "Final smallest distance {'Speaker': 'libri_train/query_folder/40.wav', 'Distance': 0.9125}\n",
      "Final smallest distance {'Speaker': 'libri_train/query_folder/54.wav', 'Distance': 0.8927}\n",
      "Final smallest distance {'Speaker': 'libri_train/query_folder/55.wav', 'Distance': 0.9089}\n",
      "Final smallest distance {'Speaker': 'libri_train/query_folder/56.wav', 'Distance': 0.8831}\n",
      "Final smallest distance {'Speaker': 'libri_train/query_folder/60.wav', 'Distance': 0.7832}\n",
      "Final smallest distance {'Speaker': 'libri_train/query_folder/64.wav', 'Distance': 0.8534}\n",
      "Final smallest distance {'Speaker': 'libri_train/query_folder/70.wav', 'Distance': 0.8269}\n",
      "Final smallest distance {'Speaker': 'libri_train/query_folder/78.wav', 'Distance': 0.9526}\n",
      "Final smallest distance {'Speaker': 'libri_train/query_folder/79.wav', 'Distance': 0.7375}\n",
      "Final smallest distance {'Speaker': 'libri_train/query_folder/81.wav', 'Distance': 0.8156}\n",
      "Final smallest distance {'Speaker': 'libri_train/query_folder/83.wav', 'Distance': 0.8783}\n",
      "Final smallest distance {'Speaker': 'libri_train/query_folder/87.wav', 'Distance': 0.9105}\n",
      "Final smallest distance {'Speaker': 'libri_train/query_folder/89.wav', 'Distance': 0.8595}\n",
      "Final smallest distance {'Speaker': 'libri_train/query_folder/90.wav', 'Distance': 0.8439}\n",
      "Final smallest distance {'Speaker': 'libri_train/query_folder/93.wav', 'Distance': 0.9206}\n",
      "Final smallest distance {'Speaker': 'libri_train/query_folder/98.wav', 'Distance': 0.9149}\n"
     ]
    }
   ],
   "source": [
    "from own_library.speaker_identificationTF import SpeakerIdentificationTf\n",
    "from sklearn.metrics import roc_curve, auc\n",
    "from matplotlib import pyplot as plt\n",
    "\n",
    "identification = SpeakerIdentificationTf(**{\"enrollment_folder\": \"libri_train/enrollment_folder\",\n",
    "                                            \"data_folder\": \"libri_train\",\n",
    "                                            \"model\": \"tensorflow\"})\n",
    "identification.enroll(seq_len=3.58, num_seq=5, normalize=False)\n",
    "identification.query(seq_len=3.58, num_seq=2, normalize=False)\n",
    "identification.compute_smallest_distances()\n"
   ]
  },
  {
   "cell_type": "code",
   "execution_count": 2,
   "metadata": {},
   "outputs": [
    {
     "name": "stdout",
     "output_type": "stream",
     "text": [
      "[1, 1, 1, 1, 1, 1, 1, 1, 1, 0, 0, 0, 0, 0, 0, 0, 0, 0, 0, 0, 0, 0, 0, 0, 0, 0, 0, 0, 0, 0, 0, 0, 0, 0, 0] [0.9898, 0.9536, 0.9852, 0.9869, 0.9928, 0.9848, 0.9915, 0.9892, 0.9777, 0.8049, 0.9217, 0.9193, 0.9463, 0.7963, 0.8537, 0.9355, 0.9247, 0.7995, 0.9131, 0.9125, 0.8927, 0.9089, 0.8831, 0.7832, 0.8534, 0.8269, 0.9526, 0.7375, 0.8156, 0.8783, 0.9105, 0.8595, 0.8439, 0.9206, 0.9149]\n",
      "35\n",
      "35\n"
     ]
    },
    {
     "name": "stderr",
     "output_type": "stream",
     "text": [
      "/home/piotr/anaconda3/envs/pyannote/lib/python3.6/site-packages/sklearn/metrics/classification.py:1135: UndefinedMetricWarning: Precision is ill-defined and being set to 0.0 due to no predicted samples.\n",
      "  'precision', 'predicted', average, warn_for)\n",
      "/home/piotr/anaconda3/envs/pyannote/lib/python3.6/site-packages/sklearn/metrics/classification.py:1135: UndefinedMetricWarning: F-score is ill-defined and being set to 0.0 due to no predicted samples.\n",
      "  'precision', 'predicted', average, warn_for)\n",
      "/home/piotr/anaconda3/envs/pyannote/lib/python3.6/site-packages/sklearn/metrics/classification.py:1135: UndefinedMetricWarning: Precision and F-score are ill-defined and being set to 0.0 in labels with no predicted samples.\n",
      "  'precision', 'predicted', average, warn_for)\n"
     ]
    }
   ],
   "source": [
    "#pytorch\n",
    "thresholds_cosine = [0.9, 0.91, 0.92, 0.93, 0.94,  0.95, 0.96, 0.97, 0.98, 0.99, 1]\n",
    "\n",
    "evaluation = identification.evaluate(thresholds_cosine)\n",
    "y_true = evaluation[0][\"y_true\"]\n",
    "y_prob = []\n",
    "\n",
    "\n",
    "for i in range(len(identification.smallest_distances)):\n",
    "    y_prob.append(identification.smallest_distances[i][\"Distance\"])\n",
    "print(y_true, y_prob)\n",
    "print(len(y_prob))\n",
    "print(len(y_true))"
   ]
  },
  {
   "cell_type": "code",
   "execution_count": 3,
   "metadata": {},
   "outputs": [
    {
     "data": {
      "text/plain": [
       "<Figure size 432x288 with 0 Axes>"
      ]
     },
     "metadata": {},
     "output_type": "display_data"
    },
    {
     "data": {
      "image/png": "[encoded data removed]",
      "text/plain": [
       "<Figure size 720x720 with 1 Axes>"
      ]
     },
     "metadata": {
      "needs_background": "light"
     },
     "output_type": "display_data"
    }
   ],
   "source": [
    "fpr, tpr, thresholds = roc_curve(y_true, y_prob, pos_label=1)\n",
    "roc_auc = auc(fpr, tpr)\n",
    "\n",
    "plt.figure()\n",
    "plt.figure(figsize=(10, 10))\n",
    "plt.plot(fpr, tpr, color='darkorange', lw=1, label='ROC curve (area = %0.2f)' % roc_auc)\n",
    "plt.plot([0, 1], [0, 1], color='navy', lw=1, linestyle='--')\n",
    "plt.xlim([0.0, 1.0])\n",
    "plt.ylim([0.0, 1.05])\n",
    "plt.xlabel('False Positive Rate')\n",
    "plt.ylabel('True Positive Rate')\n",
    "plt.title('Receiver operating characteristic')\n",
    "plt.legend(loc=\"lower right\")\n",
    "plt.show()"
   ]
  }
 ],
 "metadata": {
  "kernelspec": {
   "display_name": "Python 3",
   "language": "python",
   "name": "python3"
  },
  "language_info": {
   "codemirror_mode": {
    "name": "ipython",
    "version": 3
   },
   "file_extension": ".py",
   "mimetype": "text/x-python",
   "name": "python",
   "nbconvert_exporter": "python",
   "pygments_lexer": "ipython3",
   "version": "3.6.6"
  }
 },
 "nbformat": 4,
 "nbformat_minor": 2
}
